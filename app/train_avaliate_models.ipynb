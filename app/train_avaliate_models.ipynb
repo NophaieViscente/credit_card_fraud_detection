{
 "cells": [
  {
   "cell_type": "markdown",
   "metadata": {},
   "source": [
    "#### Importing Libs"
   ]
  },
  {
   "cell_type": "code",
   "execution_count": 16,
   "metadata": {},
   "outputs": [],
   "source": [
    "from core.PipelineProject import PrepareDataAndTrainingModels\n",
    "from core.SQLeto import SQLeto\n",
    "from decouple import config\n",
    "from sklearn.metrics import (f1_score,\n",
    "                    roc_auc_score,\n",
    "                    recall_score,\n",
    "                    precision_score,\n",
    "                    roc_curve)\n",
    "# Ignore warnings\n",
    "import warnings\n",
    "warnings.filterwarnings('ignore')"
   ]
  },
  {
   "cell_type": "markdown",
   "metadata": {},
   "source": [
    "#### Load enviroment vars"
   ]
  },
  {
   "cell_type": "code",
   "execution_count": 17,
   "metadata": {},
   "outputs": [],
   "source": [
    "RAW_DATA_PATH = config('RAW_DATA_PATH')\n",
    "DATABASE_POSTGRES = config('DATABASE_POSTGRES')\n",
    "USER_POSTGRES = config('USER_POSTGRES')\n",
    "PWD_POSTGRES = config('PWD_POSTGRES')"
   ]
  },
  {
   "cell_type": "markdown",
   "metadata": {},
   "source": [
    "#### Load data from POTSGRES"
   ]
  },
  {
   "cell_type": "code",
   "execution_count": 18,
   "metadata": {},
   "outputs": [],
   "source": [
    "# Create object to access database\n",
    "sqleto = SQLeto(\n",
    "    database=DATABASE_POSTGRES, \n",
    "    user=USER_POSTGRES,\n",
    "    password=PWD_POSTGRES)\n",
    "    \n",
    "# Getting data in a dataframe\n",
    "data = sqleto.execute_DQL(\n",
    "    '''\n",
    "        SELECT * FROM creditcard\n",
    "    '''\n",
    ")"
   ]
  },
  {
   "cell_type": "markdown",
   "metadata": {},
   "source": [
    "#### Load models"
   ]
  },
  {
   "cell_type": "code",
   "execution_count": 19,
   "metadata": {},
   "outputs": [],
   "source": [
    "# Models to test\n",
    "from sklearn.tree import DecisionTreeClassifier\n",
    "from sklearn.neural_network import MLPClassifier\n",
    "from sklearn.linear_model import LogisticRegression\n",
    "from sklearn.ensemble import RandomForestClassifier\n",
    "from sklearn.ensemble import GradientBoostingClassifier\n",
    "from xgboost import XGBClassifier"
   ]
  },
  {
   "cell_type": "markdown",
   "metadata": {},
   "source": [
    "#### Load scaler"
   ]
  },
  {
   "cell_type": "code",
   "execution_count": 20,
   "metadata": {},
   "outputs": [],
   "source": [
    "# Scaler\n",
    "from sklearn.preprocessing import RobustScaler"
   ]
  },
  {
   "cell_type": "markdown",
   "metadata": {},
   "source": [
    "#### Load balancer"
   ]
  },
  {
   "cell_type": "code",
   "execution_count": 21,
   "metadata": {},
   "outputs": [],
   "source": [
    "# Balancer\n",
    "from imblearn.over_sampling import SMOTE"
   ]
  },
  {
   "cell_type": "markdown",
   "metadata": {},
   "source": [
    "#### Use Pipeline to avaliate Models"
   ]
  },
  {
   "cell_type": "code",
   "execution_count": 28,
   "metadata": {},
   "outputs": [],
   "source": [
    "prep = PrepareDataAndTrainingModels(\n",
    "    dataframe=data,\n",
    "    target=\"Class\",\n",
    "    scaler=RobustScaler(),\n",
    "    models=[\n",
    "        MLPClassifier(),\n",
    "        DecisionTreeClassifier()],\n",
    "    balancer = SMOTE(),\n",
    "    score_metric = (f1_score,\n",
    "                    roc_auc_score,\n",
    "                    recall_score,\n",
    "                    precision_score)\n",
    ")\n",
    "prep.splitting_data()\n"
   ]
  },
  {
   "cell_type": "code",
   "execution_count": 29,
   "metadata": {},
   "outputs": [],
   "source": [
    "prep.fit_models()"
   ]
  },
  {
   "cell_type": "code",
   "execution_count": 30,
   "metadata": {},
   "outputs": [
    {
     "data": {
      "text/html": [
       "<div>\n",
       "<style scoped>\n",
       "    .dataframe tbody tr th:only-of-type {\n",
       "        vertical-align: middle;\n",
       "    }\n",
       "\n",
       "    .dataframe tbody tr th {\n",
       "        vertical-align: top;\n",
       "    }\n",
       "\n",
       "    .dataframe thead th {\n",
       "        text-align: right;\n",
       "    }\n",
       "</style>\n",
       "<table border=\"1\" class=\"dataframe\">\n",
       "  <thead>\n",
       "    <tr style=\"text-align: right;\">\n",
       "      <th></th>\n",
       "      <th>model</th>\n",
       "      <th>&lt;function f1_score at 0x0000026D34280C10&gt;</th>\n",
       "      <th>&lt;function roc_auc_score at 0x0000026D3423F760&gt;</th>\n",
       "      <th>&lt;function recall_score at 0x0000026D34281000&gt;</th>\n",
       "      <th>&lt;function precision_score at 0x0000026D34280F70&gt;</th>\n",
       "    </tr>\n",
       "  </thead>\n",
       "  <tbody>\n",
       "    <tr>\n",
       "      <th>0</th>\n",
       "      <td>MLPClassifier()</td>\n",
       "      <td>0.401408</td>\n",
       "      <td>0.917254</td>\n",
       "      <td>0.838235</td>\n",
       "      <td>0.263889</td>\n",
       "    </tr>\n",
       "    <tr>\n",
       "      <th>1</th>\n",
       "      <td>DecisionTreeClassifier()</td>\n",
       "      <td>0.776632</td>\n",
       "      <td>0.915195</td>\n",
       "      <td>0.830882</td>\n",
       "      <td>0.729032</td>\n",
       "    </tr>\n",
       "  </tbody>\n",
       "</table>\n",
       "</div>"
      ],
      "text/plain": [
       "                      model  <function f1_score at 0x0000026D34280C10>  \\\n",
       "0           MLPClassifier()                                   0.401408   \n",
       "1  DecisionTreeClassifier()                                   0.776632   \n",
       "\n",
       "   <function roc_auc_score at 0x0000026D3423F760>  \\\n",
       "0                                        0.917254   \n",
       "1                                        0.915195   \n",
       "\n",
       "   <function recall_score at 0x0000026D34281000>  \\\n",
       "0                                       0.838235   \n",
       "1                                       0.830882   \n",
       "\n",
       "   <function precision_score at 0x0000026D34280F70>  \n",
       "0                                          0.263889  \n",
       "1                                          0.729032  "
      ]
     },
     "execution_count": 30,
     "metadata": {},
     "output_type": "execute_result"
    }
   ],
   "source": [
    "prep.compute_scores()"
   ]
  }
 ],
 "metadata": {
  "kernelspec": {
   "display_name": "Python 3.10.8 ('project_fraud')",
   "language": "python",
   "name": "python3"
  },
  "language_info": {
   "codemirror_mode": {
    "name": "ipython",
    "version": 3
   },
   "file_extension": ".py",
   "mimetype": "text/x-python",
   "name": "python",
   "nbconvert_exporter": "python",
   "pygments_lexer": "ipython3",
   "version": "3.10.8"
  },
  "orig_nbformat": 4,
  "vscode": {
   "interpreter": {
    "hash": "7333c1170dbf42da6fb738ab8c811dbccdd64fda0f37cb5e20a0a1de3b4ce1ec"
   }
  }
 },
 "nbformat": 4,
 "nbformat_minor": 2
}
