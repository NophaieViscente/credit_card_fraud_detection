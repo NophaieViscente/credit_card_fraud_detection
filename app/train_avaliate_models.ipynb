{
 "cells": [
  {
   "cell_type": "markdown",
   "metadata": {},
   "source": [
    "#### Importing Libs"
   ]
  },
  {
   "cell_type": "code",
   "execution_count": 1,
   "metadata": {},
   "outputs": [],
   "source": [
    "from core.PipelineProject import PrepareDataAndTrainingModels\n",
    "from core.SQLeto import SQLeto\n",
    "from decouple import config\n",
    "# Ignore warnings\n",
    "import warnings\n",
    "warnings.filterwarnings('ignore')"
   ]
  },
  {
   "cell_type": "markdown",
   "metadata": {},
   "source": [
    "#### Load enviroment vars"
   ]
  },
  {
   "cell_type": "code",
   "execution_count": 2,
   "metadata": {},
   "outputs": [],
   "source": [
    "RAW_DATA_PATH = config('RAW_DATA_PATH')\n",
    "DATABASE_POSTGRES = config('DATABASE_POSTGRES')\n",
    "USER_POSTGRES = config('USER_POSTGRES')\n",
    "PWD_POSTGRES = config('PWD_POSTGRES')"
   ]
  },
  {
   "cell_type": "markdown",
   "metadata": {},
   "source": [
    "#### Load data from POTSGRES"
   ]
  },
  {
   "cell_type": "code",
   "execution_count": 3,
   "metadata": {},
   "outputs": [],
   "source": [
    "# Create object to access database\n",
    "sqleto = SQLeto(\n",
    "    database=DATABASE_POSTGRES, \n",
    "    user=USER_POSTGRES,\n",
    "    password=PWD_POSTGRES)\n",
    "    \n",
    "# Getting data in a dataframe\n",
    "data = sqleto.execute_DQL(\n",
    "    '''\n",
    "        SELECT * FROM creditcard\n",
    "    '''\n",
    ")"
   ]
  },
  {
   "cell_type": "markdown",
   "metadata": {},
   "source": [
    "#### Load models"
   ]
  },
  {
   "cell_type": "code",
   "execution_count": 4,
   "metadata": {},
   "outputs": [],
   "source": [
    "# Models to test\n",
    "from sklearn.tree import DecisionTreeClassifier\n",
    "from sklearn.neural_network import MLPClassifier\n",
    "from sklearn.linear_model import LogisticRegression\n",
    "from sklearn.ensemble import RandomForestClassifier\n",
    "from sklearn.ensemble import GradientBoostingClassifier\n",
    "from xgboost import XGBClassifier"
   ]
  },
  {
   "cell_type": "markdown",
   "metadata": {},
   "source": [
    "#### Load scaler"
   ]
  },
  {
   "cell_type": "code",
   "execution_count": 5,
   "metadata": {},
   "outputs": [],
   "source": [
    "# Scaler\n",
    "from sklearn.preprocessing import RobustScaler"
   ]
  },
  {
   "cell_type": "markdown",
   "metadata": {},
   "source": [
    "#### Load balancer"
   ]
  },
  {
   "cell_type": "code",
   "execution_count": 6,
   "metadata": {},
   "outputs": [],
   "source": [
    "# Balancer\n",
    "from imblearn.over_sampling import SMOTE"
   ]
  },
  {
   "cell_type": "markdown",
   "metadata": {},
   "source": [
    "#### Use Pipeline to avaliate Models"
   ]
  },
  {
   "cell_type": "code",
   "execution_count": 7,
   "metadata": {},
   "outputs": [
    {
     "name": "stdout",
     "output_type": "stream",
     "text": [
      "##################################################\n",
      "\n",
      "\n"
     ]
    }
   ],
   "source": [
    "prep = PrepareDataAndTrainingModels(\n",
    "    dataframe=data,\n",
    "    target=\"Class\",\n",
    "    scaler=RobustScaler(),\n",
    "    models=[\n",
    "        MLPClassifier(),\n",
    "        DecisionTreeClassifier()],\n",
    "    balancer = SMOTE(),\n",
    ")\n",
    "prep.splitting_data()\n",
    "prep.pre_process_data()"
   ]
  },
  {
   "cell_type": "code",
   "execution_count": 8,
   "metadata": {},
   "outputs": [],
   "source": [
    "prep.fit_models()"
   ]
  },
  {
   "cell_type": "code",
   "execution_count": 9,
   "metadata": {},
   "outputs": [
    {
     "data": {
      "text/html": [
       "<div>\n",
       "<style scoped>\n",
       "    .dataframe tbody tr th:only-of-type {\n",
       "        vertical-align: middle;\n",
       "    }\n",
       "\n",
       "    .dataframe tbody tr th {\n",
       "        vertical-align: top;\n",
       "    }\n",
       "\n",
       "    .dataframe thead th {\n",
       "        text-align: right;\n",
       "    }\n",
       "</style>\n",
       "<table border=\"1\" class=\"dataframe\">\n",
       "  <thead>\n",
       "    <tr style=\"text-align: right;\">\n",
       "      <th></th>\n",
       "      <th>0</th>\n",
       "      <th>1</th>\n",
       "      <th>2</th>\n",
       "      <th>3</th>\n",
       "      <th>4</th>\n",
       "    </tr>\n",
       "  </thead>\n",
       "  <tbody>\n",
       "    <tr>\n",
       "      <th>model</th>\n",
       "      <td>accuracy</td>\n",
       "      <td>precision</td>\n",
       "      <td>recall</td>\n",
       "      <td>f1_score</td>\n",
       "      <td>roc_auc_score</td>\n",
       "    </tr>\n",
       "    <tr>\n",
       "      <th>MLPClassifier()</th>\n",
       "      <td>0.999497</td>\n",
       "      <td>0.884298</td>\n",
       "      <td>0.786765</td>\n",
       "      <td>0.832685</td>\n",
       "      <td>0.8933</td>\n",
       "    </tr>\n",
       "    <tr>\n",
       "      <th>DecisionTreeClassifier()</th>\n",
       "      <td>0.999052</td>\n",
       "      <td>0.672956</td>\n",
       "      <td>0.786765</td>\n",
       "      <td>0.725424</td>\n",
       "      <td>0.893078</td>\n",
       "    </tr>\n",
       "  </tbody>\n",
       "</table>\n",
       "</div>"
      ],
      "text/plain": [
       "                                 0          1         2         3  \\\n",
       "model                     accuracy  precision    recall  f1_score   \n",
       "MLPClassifier()           0.999497   0.884298  0.786765  0.832685   \n",
       "DecisionTreeClassifier()  0.999052   0.672956  0.786765  0.725424   \n",
       "\n",
       "                                      4  \n",
       "model                     roc_auc_score  \n",
       "MLPClassifier()                  0.8933  \n",
       "DecisionTreeClassifier()       0.893078  "
      ]
     },
     "execution_count": 9,
     "metadata": {},
     "output_type": "execute_result"
    }
   ],
   "source": [
    "prep.compute_scores()"
   ]
  }
 ],
 "metadata": {
  "kernelspec": {
   "display_name": "Python 3.10.8 ('project_fraud')",
   "language": "python",
   "name": "python3"
  },
  "language_info": {
   "codemirror_mode": {
    "name": "ipython",
    "version": 3
   },
   "file_extension": ".py",
   "mimetype": "text/x-python",
   "name": "python",
   "nbconvert_exporter": "python",
   "pygments_lexer": "ipython3",
   "version": "3.10.8"
  },
  "orig_nbformat": 4,
  "vscode": {
   "interpreter": {
    "hash": "7333c1170dbf42da6fb738ab8c811dbccdd64fda0f37cb5e20a0a1de3b4ce1ec"
   }
  }
 },
 "nbformat": 4,
 "nbformat_minor": 2
}
