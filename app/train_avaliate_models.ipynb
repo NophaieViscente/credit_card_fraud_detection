{
 "cells": [
  {
   "cell_type": "markdown",
   "metadata": {},
   "source": [
    "#### Importing Libs"
   ]
  },
  {
   "cell_type": "code",
   "execution_count": 1,
   "metadata": {},
   "outputs": [],
   "source": [
    "from core.PipelineProject import PrepareDataAndTrainingModels\n",
    "from core.SQLeto import SQLeto\n",
    "from decouple import config\n",
    "# Ignore warnings\n",
    "import warnings\n",
    "warnings.filterwarnings('ignore')"
   ]
  },
  {
   "cell_type": "markdown",
   "metadata": {},
   "source": [
    "#### Load enviroment vars"
   ]
  },
  {
   "cell_type": "code",
   "execution_count": 2,
   "metadata": {},
   "outputs": [],
   "source": [
    "RAW_DATA_PATH = config('RAW_DATA_PATH')\n",
    "DATABASE_POSTGRES = config('DATABASE_POSTGRES')\n",
    "USER_POSTGRES = config('USER_POSTGRES')\n",
    "PWD_POSTGRES = config('PWD_POSTGRES')"
   ]
  },
  {
   "cell_type": "markdown",
   "metadata": {},
   "source": [
    "#### Load data from POTSGRES"
   ]
  },
  {
   "cell_type": "code",
   "execution_count": 3,
   "metadata": {},
   "outputs": [],
   "source": [
    "# Create object to access database\n",
    "sqleto = SQLeto(\n",
    "    database=DATABASE_POSTGRES, \n",
    "    user=USER_POSTGRES,\n",
    "    password=PWD_POSTGRES)\n",
    "    \n",
    "# Getting data in a dataframe\n",
    "data = sqleto.execute_DQL(\n",
    "    '''\n",
    "        SELECT * FROM creditcard\n",
    "    '''\n",
    ")"
   ]
  },
  {
   "cell_type": "markdown",
   "metadata": {},
   "source": [
    "#### Load models"
   ]
  },
  {
   "cell_type": "code",
   "execution_count": 4,
   "metadata": {},
   "outputs": [],
   "source": [
    "# Models to test\n",
    "from sklearn.tree import DecisionTreeClassifier\n",
    "from sklearn.neural_network import MLPClassifier\n",
    "from sklearn.linear_model import LogisticRegression\n",
    "from sklearn.ensemble import RandomForestClassifier\n",
    "from sklearn.ensemble import GradientBoostingClassifier\n",
    "from xgboost import XGBClassifier"
   ]
  },
  {
   "cell_type": "markdown",
   "metadata": {},
   "source": [
    "#### Load scaler"
   ]
  },
  {
   "cell_type": "code",
   "execution_count": 5,
   "metadata": {},
   "outputs": [],
   "source": [
    "# Scaler\n",
    "from sklearn.preprocessing import RobustScaler"
   ]
  },
  {
   "cell_type": "markdown",
   "metadata": {},
   "source": [
    "#### Load balancer"
   ]
  },
  {
   "cell_type": "code",
   "execution_count": 6,
   "metadata": {},
   "outputs": [],
   "source": [
    "# Balancer\n",
    "from imblearn.over_sampling import SMOTE"
   ]
  },
  {
   "cell_type": "markdown",
   "metadata": {},
   "source": [
    "#### Use Pipeline to avaliate Models"
   ]
  },
  {
   "cell_type": "code",
   "execution_count": 7,
   "metadata": {},
   "outputs": [
    {
     "name": "stdout",
     "output_type": "stream",
     "text": [
      "Its Binary Classification!\n",
      "\n",
      "\n",
      "##################################################\n",
      "\n",
      "\n",
      "Using tecnique: SMOTE()\n",
      "Model training: DecisionTreeClassifier()\n",
      "\n",
      "\n"
     ]
    }
   ],
   "source": [
    "prep = PrepareDataAndTrainingModels(\n",
    "    dataframe=data,\n",
    "    target=\"Class\",\n",
    "    scaler=RobustScaler(),\n",
    "    models=[\n",
    "        DecisionTreeClassifier(),\n",
    "        MLPClassifier(),\n",
    "        LogisticRegression(),\n",
    "        RandomForestClassifier(),\n",
    "        GradientBoostingClassifier(),\n",
    "        XGBClassifier()\n",
    "\n",
    "    ],\n",
    "    balancer = SMOTE(),\n",
    "    score_metric = 'recall_macro'\n",
    ")\n",
    "prep.avaliate_models_cv()"
   ]
  }
 ],
 "metadata": {
  "kernelspec": {
   "display_name": "Python 3.10.8 ('project_fraud')",
   "language": "python",
   "name": "python3"
  },
  "language_info": {
   "codemirror_mode": {
    "name": "ipython",
    "version": 3
   },
   "file_extension": ".py",
   "mimetype": "text/x-python",
   "name": "python",
   "nbconvert_exporter": "python",
   "pygments_lexer": "ipython3",
   "version": "3.10.8"
  },
  "orig_nbformat": 4,
  "vscode": {
   "interpreter": {
    "hash": "7333c1170dbf42da6fb738ab8c811dbccdd64fda0f37cb5e20a0a1de3b4ce1ec"
   }
  }
 },
 "nbformat": 4,
 "nbformat_minor": 2
}
